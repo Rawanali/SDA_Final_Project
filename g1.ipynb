{
 "cells": [
  {
   "cell_type": "markdown",
   "metadata": {
    "id": "lKCpITksj8FS"
   },
   "source": [
    "# **Predicting Loan Defaults using ML model.**\n",
    "\n",
    "\n",
    "\n",
    "\n"
   ]
  },
  {
   "cell_type": "markdown",
   "metadata": {
    "id": "S1V4ZL1tkJ-U"
   },
   "source": [
    "# 1. Data Collection: Selection and get data\n",
    "\n",
    "\n"
   ]
  },
  {
   "cell_type": "code",
   "execution_count": 823,
   "metadata": {
    "id": "18ZZpHb1kAbE"
   },
   "outputs": [],
   "source": [
    "#Importing the libraries and dependencies required:\n",
    "import numpy as np  # linear algebra\n",
    "import pandas as pd  # data processing, CSV file\n",
    "import matplotlib.pyplot as plt\n",
    "import seaborn as sns\n",
    "%matplotlib inline\n",
    "import scipy\n",
    "from scipy.stats import chi2\n",
    "from scipy.stats import chi2_contingency\n",
    "from scipy.stats import pearsonr, spearmanr\n",
    "\n",
    "from sklearn.preprocessing import StandardScaler\n",
    "from sklearn.preprocessing import MinMaxScaler\n",
    "from sklearn.model_selection import train_test_split\n",
    "from sklearn.model_selection import GridSearchCV\n",
    "from sklearn.ensemble import RandomForestClassifier\n",
    "from sklearn.linear_model import LogisticRegression\n",
    "from sklearn.neighbors import KNeighborsClassifier\n",
    "from sklearn.svm import SVC\n",
    "from sklearn import tree\n",
    "from sklearn.tree import export_graphviz\n",
    "from sklearn.externals.six import StringIO\n",
    "from six import StringIO\n",
    "from sklearn.linear_model import Perceptron\n",
    "from sklearn.neural_network import MLPClassifier\n",
    "from sklearn.metrics import  precision_recall_curve, roc_auc_score, confusion_matrix, accuracy_score, recall_score, precision_score, f1_score,auc, roc_curve, plot_confusion_matrix\n",
    "from sklearn.preprocessing import LabelEncoder\n",
    "from category_encoders import BinaryEncoder\n",
    "from category_encoders import *\n",
    "\n",
    "from IPython.display import Image\n",
    "import pydotplus\n",
    "import matplotlib.pyplot as plt\n",
    "%matplotlib inline\n",
    "color = sns.color_palette()\n",
    "seed = 42"
   ]
  },
  {
   "cell_type": "markdown",
   "metadata": {
    "id": "VAjsSVewuyXJ"
   },
   "source": [
    "Get the Data\n",
    "Use pandas to read lending_club_loan.csv as a dataframe called loans"
   ]
  },
  {
   "cell_type": "code",
   "execution_count": 705,
   "metadata": {
    "id": "tNZwYX6Hu1fp"
   },
   "outputs": [],
   "source": [
    "#Loading and displaying the dataset:\n",
    "df = pd.read_csv('/content/lending_club_loan_dataset2.csv')"
   ]
  },
  {
   "cell_type": "markdown",
   "metadata": {},
   "source": [
    "## Feature description:\n",
    "* **id:** Unique ID of the loan application.\n",
    "* **grade:** LC assigned loan grade.\n",
    "* **annual_inc:** The self-reported annual income provided by the borrower during registration.\n",
    "* **short_emp:** 1 when employed for 1 year or less.\n",
    "* **emp_length_num:** Employment length in years. Possible values are between 0 and 10 where 0 means less than one year and 10 means ten or more years.\n",
    "home_ownership: Type of home ownership.\n",
    "* **dti (Debt-To-Income Ratio):** A ratio calculated using the borrower’s total monthly debt payments on the total debt obligations, excluding mortgage and the requested LC loan, divided by the borrower’s self-reported monthly income.\n",
    "* **purpose:** A category provided by the borrower for the loan request.\n",
    "* **term:** The number of payments on the loan. Values are in months and can be either 36 or 60.\n",
    "* **last_delinq_none:** 1 when the borrower had at least one event of delinquency.\n",
    "* **last_major_derog_none:** 1 borrower had at least 90 days of a bad rating.\n",
    "* **revol_util:** Revolving line utilization rate, or the amount of credit the borrower is using relative to all available revolving credit.\n",
    "* **total_rec_late_fee:** Late fees received to date.\n",
    "* **od_ratio:** Overdraft ratio.\n",
    "* **bad_loan:** 1 when a loan was not paid."
   ]
  },
  {
   "cell_type": "code",
   "execution_count": null,
   "metadata": {},
   "outputs": [],
   "source": []
  }
 ],
 "metadata": {
  "colab": {
   "collapsed_sections": [
    "lKCpITksj8FS"
   ],
   "name": "Final_project.ipynb",
   "provenance": []
  },
  "kernelspec": {
   "display_name": "Python 3",
   "language": "python",
   "name": "python3"
  },
  "language_info": {
   "codemirror_mode": {
    "name": "ipython",
    "version": 3
   },
   "file_extension": ".py",
   "mimetype": "text/x-python",
   "name": "python",
   "nbconvert_exporter": "python",
   "pygments_lexer": "ipython3",
   "version": "3.8.8"
  }
 },
 "nbformat": 4,
 "nbformat_minor": 4
}
