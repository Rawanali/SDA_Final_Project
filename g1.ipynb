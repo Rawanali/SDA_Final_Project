{
 "cells": [
  {
   "cell_type": "markdown",
   "metadata": {
    "id": "lKCpITksj8FS"
   },
   "source": [
    "# **Predicting Loan Defaults using ML model.**\n",
    "\n",
    "\n",
    "\n",
    "\n"
   ]
  },
  {
   "cell_type": "markdown",
   "metadata": {
    "id": "S1V4ZL1tkJ-U"
   },
   "source": [
    "# 1. Data Collection: Selection and get data\n",
    "\n",
    "\n"
   ]
  },
  {
   "cell_type": "code",
   "execution_count": null,
   "metadata": {
    "colab": {
     "base_uri": "https://localhost:8080/"
    },
    "id": "aSdodKsRc079",
    "outputId": "afc4b98f-6a47-4a5a-abbb-7a40e05b0939"
   },
   "outputs": [
    {
     "name": "stdout",
     "output_type": "stream",
     "text": [
      "Requirement already satisfied: category_encoders in /usr/local/lib/python3.7/dist-packages (2.3.0)\n",
      "Requirement already satisfied: scikit-learn>=0.20.0 in /usr/local/lib/python3.7/dist-packages (from category_encoders) (1.0.1)\n",
      "Requirement already satisfied: statsmodels>=0.9.0 in /usr/local/lib/python3.7/dist-packages (from category_encoders) (0.10.2)\n",
      "Requirement already satisfied: numpy>=1.14.0 in /usr/local/lib/python3.7/dist-packages (from category_encoders) (1.19.5)\n",
      "Requirement already satisfied: scipy>=1.0.0 in /usr/local/lib/python3.7/dist-packages (from category_encoders) (1.4.1)\n",
      "Requirement already satisfied: pandas>=0.21.1 in /usr/local/lib/python3.7/dist-packages (from category_encoders) (1.1.5)\n",
      "Requirement already satisfied: patsy>=0.5.1 in /usr/local/lib/python3.7/dist-packages (from category_encoders) (0.5.2)\n",
      "Requirement already satisfied: pytz>=2017.2 in /usr/local/lib/python3.7/dist-packages (from pandas>=0.21.1->category_encoders) (2018.9)\n",
      "Requirement already satisfied: python-dateutil>=2.7.3 in /usr/local/lib/python3.7/dist-packages (from pandas>=0.21.1->category_encoders) (2.8.2)\n",
      "Requirement already satisfied: six in /usr/local/lib/python3.7/dist-packages (from patsy>=0.5.1->category_encoders) (1.15.0)\n",
      "Requirement already satisfied: threadpoolctl>=2.0.0 in /usr/local/lib/python3.7/dist-packages (from scikit-learn>=0.20.0->category_encoders) (3.0.0)\n",
      "Requirement already satisfied: joblib>=0.11 in /usr/local/lib/python3.7/dist-packages (from scikit-learn>=0.20.0->category_encoders) (1.1.0)\n"
     ]
    }
   ],
   "source": [
    "## Instaling the packages. \n",
    "# To install the category_encoders package. \n",
    "!pip install category_encoders\n",
    "#!pip install scikit-learn\n",
    "#!pip install --upgrade scikit-learn==0.20.3\n",
    "#!pip install --upgrade scikit-learn\n",
    "#!pip install plot_confusion_matrix\n",
    "#!pip install --upgrade category_encoders"
   ]
  },
  {
   "cell_type": "code",
   "execution_count": null,
   "metadata": {
    "id": "18ZZpHb1kAbE"
   },
   "outputs": [],
   "source": [
    "# Importing the libraries and dependencies required:\n",
    "\n",
    "import numpy as np \n",
    "import pandas as pd \n",
    "import matplotlib.pyplot as plt\n",
    "import seaborn as sns\n",
    "%matplotlib inline\n",
    "import scipy\n",
    "from scipy.stats import chi2\n",
    "from scipy.stats import chi2_contingency\n",
    "from scipy.stats import pearsonr, spearmanr\n",
    "\n",
    "from sklearn.preprocessing import StandardScaler\n",
    "from sklearn.preprocessing import MinMaxScaler\n",
    "from sklearn.model_selection import train_test_split\n",
    "from sklearn.model_selection import GridSearchCV\n",
    "from sklearn.linear_model import LogisticRegression\n",
    "\n",
    "from sklearn import tree\n",
    "from sklearn.ensemble import RandomForestClassifier\n",
    "\n",
    "\n",
    "from sklearn.svm import SVC\n",
    "from six import StringIO\n",
    "from sklearn.metrics import roc_curve\n",
    "from sklearn.metrics import auc\n",
    "from sklearn.metrics import plot_confusion_matrix\n",
    "from sklearn.metrics import confusion_matrix\n",
    "from sklearn.metrics import f1_score\n",
    "from sklearn.metrics import roc_auc_score\n",
    "from sklearn.metrics import precision_score\n",
    "from sklearn.metrics import recall_score\n",
    "from sklearn.metrics import accuracy_score\n",
    "from sklearn.metrics import precision_recall_curve\n",
    "\n",
    "from sklearn import metrics\n",
    "from six import StringIO\n",
    "from sklearn.linear_model import Perceptron\n",
    "#from sklearn.neural_network import MLPClassifier\n",
    "from sklearn.metrics import plot_confusion_matrix\n",
    "from sklearn.preprocessing import LabelEncoder\n",
    "from category_encoders import BinaryEncoder\n",
    "from category_encoders import *\n",
    "\n",
    "from IPython.display import Image\n",
    "import pydotplus\n",
    "import matplotlib.pyplot as plt\n",
    "%matplotlib inline\n",
    "color = sns.color_palette()\n",
    "seed = 42"
   ]
  },
  {
   "cell_type": "markdown",
   "metadata": {
    "id": "VAjsSVewuyXJ"
   },
   "source": [
    "Get the Data\n",
    "Use pandas to read lending_club_loan.csv as a dataframe called loans"
   ]
  },
  {
   "cell_type": "code",
   "execution_count": null,
   "metadata": {
    "id": "tNZwYX6Hu1fp"
   },
   "outputs": [],
   "source": [
    "#Loading and displaying the dataset:\n",
    "df = pd.read_csv('/content/lending_club_loan_dataset2.csv')"
   ]
  },
  {
   "cell_type": "markdown",
   "metadata": {
    "id": "W35jGI0C1xpo"
   },
   "source": [
    "## Feature description:\n",
    "* **id:** Unique ID of the loan application.\n",
    "* **grade:** LC assigned loan grade.\n",
    "* **annual_inc:** The self-reported annual income provided by the borrower during registration.\n",
    "* **short_emp:** 1 when employed for 1 year or less.\n",
    "* **emp_length_num:** Employment length in years. Possible values are between 0 and 10 where 0 means less than one year and 10 means ten or more years.\n",
    "home_ownership: Type of home ownership.\n",
    "* **dti (Debt-To-Income Ratio):** A ratio calculated using the borrower’s total monthly debt payments on the total debt obligations, excluding mortgage and the requested LC loan, divided by the borrower’s self-reported monthly income.\n",
    "* **purpose:** A category provided by the borrower for the loan request.\n",
    "* **term:** The number of payments on the loan. Values are in months and can be either 36 or 60.\n",
    "* **last_delinq_none:** 1 when the borrower had at least one event of delinquency.\n",
    "* **last_major_derog_none:** 1 borrower had at least 90 days of a bad rating.\n",
    "* **revol_util:** Revolving line utilization rate, or the amount of credit the borrower is using relative to all available revolving credit.\n",
    "* **total_rec_late_fee:** Late fees received to date.\n",
    "* **od_ratio:** Overdraft ratio.\n",
    "* **bad_loan:** 1 when a loan was not paid."
   ]
  }
 ],
 "metadata": {
  "colab": {
   "collapsed_sections": [
    "lKCpITksj8FS"
   ],
   "name": "Final_project.ipynb",
   "provenance": [],
   "toc_visible": true
  },
  "kernelspec": {
   "display_name": "Python 3",
   "language": "python",
   "name": "python3"
  },
  "language_info": {
   "codemirror_mode": {
    "name": "ipython",
    "version": 3
   },
   "file_extension": ".py",
   "mimetype": "text/x-python",
   "name": "python",
   "nbconvert_exporter": "python",
   "pygments_lexer": "ipython3",
   "version": "3.8.8"
  }
 },
 "nbformat": 4,
 "nbformat_minor": 4
}
