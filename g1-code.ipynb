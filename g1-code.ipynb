{
 "cells": [
  {
   "cell_type": "markdown",
   "metadata": {
    "id": "lKCpITksj8FS"
   },
   "source": [
    "# **Predicting Loan Defaults using ML model.**\n",
    "\n",
    "\n",
    "\n",
    "\n"
   ]
  },
  {
   "cell_type": "markdown",
   "metadata": {
    "id": "S1V4ZL1tkJ-U"
   },
   "source": [
    "# 1. Data Collection: Selection and get data\n",
    "\n",
    "\n"
   ]
  },
  {
   "cell_type": "code",
   "execution_count": 1,
   "metadata": {
    "id": "18ZZpHb1kAbE"
   },
   "outputs": [],
   "source": [
    "#Importing the libraries and dependencies required:\n",
    "import numpy as np  # linear algebra\n",
    "import pandas as pd  # data processing, CSV file\n",
    "import matplotlib.pyplot as plt\n",
    "import seaborn as sns\n",
    "%matplotlib inline\n"
   ]
  },
  {
   "cell_type": "markdown",
   "metadata": {
    "id": "VAjsSVewuyXJ"
   },
   "source": [
    "Get the Data\n",
    "Use pandas to read lending_club_loan.csv as a dataframe called loans"
   ]
  },
  {
   "cell_type": "code",
   "execution_count": 4,
   "metadata": {
    "id": "tNZwYX6Hu1fp"
   },
   "outputs": [],
   "source": [
    "#Loading and displaying the dataset:\n",
    "\n",
    "df=pd.read_csv('lending_club_loan_dataset.csv')"
   ]
  },
  {
   "cell_type": "markdown",
   "metadata": {
    "id": "W35jGI0C1xpo"
   },
   "source": [
    "# Feature description:\n",
    "* **id:** Unique ID of the loan application.\n",
    "* **grade:** LC assigned loan grade.\n",
    "* **annual_inc:** The self-reported annual income provided by the borrower during registration.\n",
    "* **short_emp:** 1 when employed for 1 year or less.\n",
    "* **emp_length_num:** Employment length in years. Possible values are between 0 and 10 where 0 means less than one year and 10 means ten or more years.\n",
    "home_ownership: Type of home ownership.\n",
    "* **dti (Debt-To-Income Ratio):** A ratio calculated using the borrower’s total monthly debt payments on the total debt obligations, excluding mortgage and the requested LC loan, divided by the borrower’s self-reported monthly income.\n",
    "* **purpose:** A category provided by the borrower for the loan request.\n",
    "* **term:** The number of payments on the loan. Values are in months and can be either 36 or 60.\n",
    "* **last_delinq_none:** 1 when the borrower had at least one event of delinquency.\n",
    "* **last_major_derog_none:** 1 borrower had at least 90 days of a bad rating.\n",
    "* **revol_util:** Revolving line utilization rate, or the amount of credit the borrower is using relative to all available revolving credit.\n",
    "* **total_rec_late_fee:** Late fees received to date.\n",
    "* **od_ratio:** Overdraft ratio.\n",
    "* **bad_loan:** 1 when a loan was not paid."
   ]
  }
 ],
 "metadata": {
  "colab": {
   "collapsed_sections": [],
   "name": "Final_project.ipynb",
   "provenance": [],
   "toc_visible": true
  },
  "kernelspec": {
   "display_name": "Python 3",
   "language": "python",
   "name": "python3"
  },
  "language_info": {
   "codemirror_mode": {
    "name": "ipython",
    "version": 3
   },
   "file_extension": ".py",
   "mimetype": "text/x-python",
   "name": "python",
   "nbconvert_exporter": "python",
   "pygments_lexer": "ipython3",
   "version": "3.8.8"
  }
 },
 "nbformat": 4,
 "nbformat_minor": 4
}
